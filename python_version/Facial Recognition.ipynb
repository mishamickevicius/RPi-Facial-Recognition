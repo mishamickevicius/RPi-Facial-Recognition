{
 "cells": [
  {
   "cell_type": "code",
   "execution_count": 8,
   "id": "bf47b4cc-ac8f-4698-a258-a164c4596915",
   "metadata": {},
   "outputs": [
    {
     "name": "stderr",
     "output_type": "stream",
     "text": [
      "2025-05-15 21:55:45.702765: I tensorflow/core/util/port.cc:153] oneDNN custom operations are on. You may see slightly different numerical results due to floating-point round-off errors from different computation orders. To turn them off, set the environment variable `TF_ENABLE_ONEDNN_OPTS=0`.\n",
      "2025-05-15 21:55:45.848373: E external/local_xla/xla/stream_executor/cuda/cuda_fft.cc:477] Unable to register cuFFT factory: Attempting to register factory for plugin cuFFT when one has already been registered\n",
      "WARNING: All log messages before absl::InitializeLog() is called are written to STDERR\n",
      "E0000 00:00:1747364145.901754    4364 cuda_dnn.cc:8310] Unable to register cuDNN factory: Attempting to register factory for plugin cuDNN when one has already been registered\n",
      "E0000 00:00:1747364145.916000    4364 cuda_blas.cc:1418] Unable to register cuBLAS factory: Attempting to register factory for plugin cuBLAS when one has already been registered\n",
      "2025-05-15 21:55:46.055845: I tensorflow/core/platform/cpu_feature_guard.cc:210] This TensorFlow binary is optimized to use available CPU instructions in performance-critical operations.\n",
      "To enable the following instructions: AVX2 AVX512F AVX512_VNNI FMA, in other operations, rebuild TensorFlow with the appropriate compiler flags.\n"
     ]
    }
   ],
   "source": [
    "import numpy as np\n",
    "import matplotlib.pyplot as plt\n",
    "import os\n",
    "import shutil\n",
    "import tensorflow as tf\n",
    "\n",
    "from functools import partial"
   ]
  },
  {
   "cell_type": "markdown",
   "id": "3168d596-c5dc-435c-9aa4-aa9ac3eb6a57",
   "metadata": {},
   "source": [
    "# Plan\n",
    "- Build Facial Detection model first\n",
    "- Then build Facial Recognition model"
   ]
  },
  {
   "cell_type": "markdown",
   "id": "9b59179d-bec1-4fb4-9857-ff346e79795b",
   "metadata": {
    "jp-MarkdownHeadingCollapsed": true
   },
   "source": [
    "## Data"
   ]
  },
  {
   "cell_type": "markdown",
   "id": "a68295c2-c91d-4709-9fdd-d50b83bda00c",
   "metadata": {},
   "source": [
    "Plan for data: \n",
    "1. Get a dataset of just faces\n",
    "2. For Facial Detection model, combine this dataset with the ImageNet dataset\n",
    "3. For Facial Recognition model, combine face dataset with pictures of approved faces(ie. mine) "
   ]
  },
  {
   "cell_type": "code",
   "execution_count": 2,
   "id": "6514f38c-1705-477d-a112-b892f8402f2e",
   "metadata": {},
   "outputs": [],
   "source": [
    "DATAPATH = '/home/misha/Desktop/data/face_recognition_Data'"
   ]
  },
  {
   "cell_type": "code",
   "execution_count": 3,
   "id": "3fd75567-f5c3-41c8-a2c3-34dbfae00103",
   "metadata": {},
   "outputs": [],
   "source": [
    "notFace_path = DATAPATH + '/Not Face'"
   ]
  },
  {
   "cell_type": "code",
   "execution_count": 4,
   "id": "da098637-8358-4f10-a973-282b59be003b",
   "metadata": {},
   "outputs": [],
   "source": [
    "### Data clean up functionality\n",
    "for obj_folder in os.listdir(notFace_path):\n",
    "    if not os.path.isdir(notFace_path + f'/{obj_folder}'):\n",
    "        continue\n",
    "    else:\n",
    "        print(f\"Found folder {obj_folder}\")\n",
    "        for image_path in os.listdir(notFace_path + f'/{obj_folder}'):\n",
    "            try:\n",
    "                shutil.move(notFace_path + f'/{obj_folder}/{image_path}', notFace_path)\n",
    "            except Exception as err:\n",
    "                print(f\"Error with file: {image_path}\")\n",
    "                print(err)"
   ]
  },
  {
   "cell_type": "code",
   "execution_count": 20,
   "id": "6976b3a4-aaed-4956-baac-bcf7126d885b",
   "metadata": {},
   "outputs": [
    {
     "name": "stdout",
     "output_type": "stream",
     "text": [
      "Found 3937 files belonging to 2 classes.\n"
     ]
    }
   ],
   "source": [
    "df = tf.keras.utils.image_dataset_from_directory(\n",
    "    DATAPATH, \n",
    "    labels='inferred',\n",
    "    color_mode='rgb',\n",
    "    batch_size=24, \n",
    "    label_mode='binary',   ## Vector Representation (Use categorical_crossentropy loss)\n",
    "    image_size=(640, 480),\n",
    "    crop_to_aspect_ratio=True,\n",
    "    seed=1, \n",
    "    shuffle=True\n",
    ")"
   ]
  },
  {
   "cell_type": "code",
   "execution_count": 21,
   "id": "55d8f40e-ad71-4f16-b6f6-98e493b3c569",
   "metadata": {},
   "outputs": [
    {
     "data": {
      "text/plain": [
       "<_PrefetchDataset element_spec=(TensorSpec(shape=(None, 640, 480, 3), dtype=tf.float32, name=None), TensorSpec(shape=(None, 1), dtype=tf.float32, name=None))>"
      ]
     },
     "execution_count": 21,
     "metadata": {},
     "output_type": "execute_result"
    }
   ],
   "source": [
    "df"
   ]
  },
  {
   "cell_type": "code",
   "execution_count": 5,
   "id": "cb3c14df-5e72-4c37-8d6b-c4b84531d349",
   "metadata": {},
   "outputs": [],
   "source": [
    "# buffer_size = DATASET_SIZE\n",
    "# seed = 101\n",
    "# df = df.shuffle(buffer_size, seed=seed)"
   ]
  },
  {
   "cell_type": "code",
   "execution_count": 4,
   "id": "fdf04a10-d2e0-4521-b7cf-03cb1a34382d",
   "metadata": {},
   "outputs": [],
   "source": [
    "# train_size = int(TRAIN_RATIO * DATASET_SIZE)\n",
    "# val_size = int(VAL_RATIO * DATASET_SIZE)\n",
    "# test_size = DATASET_SIZE - train_size - val_size "
   ]
  },
  {
   "cell_type": "code",
   "execution_count": 3,
   "id": "6f79c2df-1a5f-4e70-a1b6-3dc3203330a8",
   "metadata": {},
   "outputs": [],
   "source": [
    "# train_df = df.take(train_size)\n",
    "# val_df = df.skip(train_size).take(val_size)\n",
    "# test_df = df.skip(train_size + val_size) # Takes the rest"
   ]
  },
  {
   "cell_type": "code",
   "execution_count": 2,
   "id": "5c918493-e98e-4656-bea2-b69521b53adc",
   "metadata": {},
   "outputs": [],
   "source": [
    "# len(val_df)"
   ]
  },
  {
   "cell_type": "markdown",
   "id": "957bcba4-5771-45c9-a928-9ce4344d79fb",
   "metadata": {},
   "source": [
    "## Face Detection Model"
   ]
  },
  {
   "cell_type": "code",
   "execution_count": 2,
   "id": "15b667b1-4c3e-4d2b-8364-60431347c4b3",
   "metadata": {},
   "outputs": [],
   "source": [
    "import cv2\n",
    "image_path = '/home/misha/Desktop/data/test_images/face.jpeg'\n",
    "face_cascade = cv2.CascadeClassifier(cv2.data.haarcascades + 'haarcascade_frontalface_default.xml')\n",
    "img = cv2.imread(image_path)\n",
    "gray = cv2.cvtColor(img, cv2.COLOR_RGB2GRAY)\n",
    "faces = face_cascade.detectMultiScale(gray, 1.1, 4)\n",
    "## Drawing rectangles around the faces\n",
    "for (x,y,w,h) in faces:\n",
    "    cv2.rectangle(img, (x,y), (x+w, y+h), (255, 0, 0), 2)\n",
    "# cv2.imshow('img', img)\n",
    "# cv2.waitKey()"
   ]
  },
  {
   "cell_type": "markdown",
   "id": "12efff39",
   "metadata": {},
   "source": [
    "## DeepFace vectorization"
   ]
  },
  {
   "cell_type": "code",
   "execution_count": 10,
   "id": "a14ed30c",
   "metadata": {},
   "outputs": [],
   "source": [
    "from deepface import DeepFace"
   ]
  },
  {
   "cell_type": "code",
   "execution_count": 11,
   "id": "4bf247fe",
   "metadata": {},
   "outputs": [
    {
     "name": "stderr",
     "output_type": "stream",
     "text": [
      "E0000 00:00:1747617140.356700    7128 cuda_dnn.cc:522] Loaded runtime CuDNN library: 9.1.0 but source was compiled with: 9.3.0.  CuDNN library needs to have matching major version and equal or higher minor version. If using a binary install, upgrade your CuDNN library.  If building from sources, make sure the library loaded at runtime is compatible with the version specified during compile configuration.\n",
      "2025-05-18 20:12:20.357033: W tensorflow/core/framework/op_kernel.cc:1841] OP_REQUIRES failed at conv_ops_impl.h:1204 : INVALID_ARGUMENT: No DNN in stream executor.\n"
     ]
    },
    {
     "ename": "InvalidArgumentError",
     "evalue": "Exception encountered when calling layer 'conv2d' (type Conv2D).\n\n{{function_node __wrapped__Conv2D_device_/job:localhost/replica:0/task:0/device:GPU:0}} No DNN in stream executor. [Op:Conv2D] name: \n\nCall arguments received by layer 'conv2d' (type Conv2D):\n  • inputs=tf.Tensor(shape=(1, 226, 226, 3), dtype=float32)",
     "output_type": "error",
     "traceback": [
      "\u001b[0;31m---------------------------------------------------------------------------\u001b[0m",
      "\u001b[0;31mInvalidArgumentError\u001b[0m                      Traceback (most recent call last)",
      "Cell \u001b[0;32mIn[11], line 3\u001b[0m\n\u001b[1;32m      1\u001b[0m \u001b[38;5;66;03m## Embeddings\u001b[39;00m\n\u001b[0;32m----> 3\u001b[0m embedding_objs \u001b[38;5;241m=\u001b[39m \u001b[43mDeepFace\u001b[49m\u001b[38;5;241;43m.\u001b[39;49m\u001b[43mrepresent\u001b[49m\u001b[43m(\u001b[49m\u001b[43mimg_path\u001b[49m\u001b[38;5;241;43m=\u001b[39;49m\u001b[38;5;124;43m\"\u001b[39;49m\u001b[38;5;124;43m/home/misha/Desktop/data/test_images/face.jpeg\u001b[39;49m\u001b[38;5;124;43m\"\u001b[39;49m\u001b[43m)\u001b[49m\n",
      "File \u001b[0;32m~/Desktop/env/lib/python3.12/site-packages/deepface/DeepFace.py:418\u001b[0m, in \u001b[0;36mrepresent\u001b[0;34m(img_path, model_name, enforce_detection, detector_backend, align, expand_percentage, normalization, anti_spoofing, max_faces)\u001b[0m\n\u001b[1;32m    359\u001b[0m \u001b[38;5;28;01mdef\u001b[39;00m \u001b[38;5;21mrepresent\u001b[39m(\n\u001b[1;32m    360\u001b[0m     img_path: Union[\u001b[38;5;28mstr\u001b[39m, np\u001b[38;5;241m.\u001b[39mndarray],\n\u001b[1;32m    361\u001b[0m     model_name: \u001b[38;5;28mstr\u001b[39m \u001b[38;5;241m=\u001b[39m \u001b[38;5;124m\"\u001b[39m\u001b[38;5;124mVGG-Face\u001b[39m\u001b[38;5;124m\"\u001b[39m,\n\u001b[0;32m   (...)\u001b[0m\n\u001b[1;32m    368\u001b[0m     max_faces: Optional[\u001b[38;5;28mint\u001b[39m] \u001b[38;5;241m=\u001b[39m \u001b[38;5;28;01mNone\u001b[39;00m,\n\u001b[1;32m    369\u001b[0m ) \u001b[38;5;241m-\u001b[39m\u001b[38;5;241m>\u001b[39m List[Dict[\u001b[38;5;28mstr\u001b[39m, Any]]:\n\u001b[1;32m    370\u001b[0m \u001b[38;5;250m    \u001b[39m\u001b[38;5;124;03m\"\"\"\u001b[39;00m\n\u001b[1;32m    371\u001b[0m \u001b[38;5;124;03m    Represent facial images as multi-dimensional vector embeddings.\u001b[39;00m\n\u001b[1;32m    372\u001b[0m \n\u001b[0;32m   (...)\u001b[0m\n\u001b[1;32m    416\u001b[0m \u001b[38;5;124;03m            to 'skip', the confidence will be 0 and is nonsensical.\u001b[39;00m\n\u001b[1;32m    417\u001b[0m \u001b[38;5;124;03m    \"\"\"\u001b[39;00m\n\u001b[0;32m--> 418\u001b[0m     \u001b[38;5;28;01mreturn\u001b[39;00m \u001b[43mrepresentation\u001b[49m\u001b[38;5;241;43m.\u001b[39;49m\u001b[43mrepresent\u001b[49m\u001b[43m(\u001b[49m\n\u001b[1;32m    419\u001b[0m \u001b[43m        \u001b[49m\u001b[43mimg_path\u001b[49m\u001b[38;5;241;43m=\u001b[39;49m\u001b[43mimg_path\u001b[49m\u001b[43m,\u001b[49m\n\u001b[1;32m    420\u001b[0m \u001b[43m        \u001b[49m\u001b[43mmodel_name\u001b[49m\u001b[38;5;241;43m=\u001b[39;49m\u001b[43mmodel_name\u001b[49m\u001b[43m,\u001b[49m\n\u001b[1;32m    421\u001b[0m \u001b[43m        \u001b[49m\u001b[43menforce_detection\u001b[49m\u001b[38;5;241;43m=\u001b[39;49m\u001b[43menforce_detection\u001b[49m\u001b[43m,\u001b[49m\n\u001b[1;32m    422\u001b[0m \u001b[43m        \u001b[49m\u001b[43mdetector_backend\u001b[49m\u001b[38;5;241;43m=\u001b[39;49m\u001b[43mdetector_backend\u001b[49m\u001b[43m,\u001b[49m\n\u001b[1;32m    423\u001b[0m \u001b[43m        \u001b[49m\u001b[43malign\u001b[49m\u001b[38;5;241;43m=\u001b[39;49m\u001b[43malign\u001b[49m\u001b[43m,\u001b[49m\n\u001b[1;32m    424\u001b[0m \u001b[43m        \u001b[49m\u001b[43mexpand_percentage\u001b[49m\u001b[38;5;241;43m=\u001b[39;49m\u001b[43mexpand_percentage\u001b[49m\u001b[43m,\u001b[49m\n\u001b[1;32m    425\u001b[0m \u001b[43m        \u001b[49m\u001b[43mnormalization\u001b[49m\u001b[38;5;241;43m=\u001b[39;49m\u001b[43mnormalization\u001b[49m\u001b[43m,\u001b[49m\n\u001b[1;32m    426\u001b[0m \u001b[43m        \u001b[49m\u001b[43manti_spoofing\u001b[49m\u001b[38;5;241;43m=\u001b[39;49m\u001b[43manti_spoofing\u001b[49m\u001b[43m,\u001b[49m\n\u001b[1;32m    427\u001b[0m \u001b[43m        \u001b[49m\u001b[43mmax_faces\u001b[49m\u001b[38;5;241;43m=\u001b[39;49m\u001b[43mmax_faces\u001b[49m\u001b[43m,\u001b[49m\n\u001b[1;32m    428\u001b[0m \u001b[43m    \u001b[49m\u001b[43m)\u001b[49m\n",
      "File \u001b[0;32m~/Desktop/env/lib/python3.12/site-packages/deepface/modules/representation.py:133\u001b[0m, in \u001b[0;36mrepresent\u001b[0;34m(img_path, model_name, enforce_detection, detector_backend, align, expand_percentage, normalization, anti_spoofing, max_faces)\u001b[0m\n\u001b[1;32m    130\u001b[0m     \u001b[38;5;66;03m# custom normalization\u001b[39;00m\n\u001b[1;32m    131\u001b[0m     img \u001b[38;5;241m=\u001b[39m preprocessing\u001b[38;5;241m.\u001b[39mnormalize_input(img\u001b[38;5;241m=\u001b[39mimg, normalization\u001b[38;5;241m=\u001b[39mnormalization)\n\u001b[0;32m--> 133\u001b[0m     embedding \u001b[38;5;241m=\u001b[39m \u001b[43mmodel\u001b[49m\u001b[38;5;241;43m.\u001b[39;49m\u001b[43mforward\u001b[49m\u001b[43m(\u001b[49m\u001b[43mimg\u001b[49m\u001b[43m)\u001b[49m\n\u001b[1;32m    135\u001b[0m     resp_objs\u001b[38;5;241m.\u001b[39mappend(\n\u001b[1;32m    136\u001b[0m         {\n\u001b[1;32m    137\u001b[0m             \u001b[38;5;124m\"\u001b[39m\u001b[38;5;124membedding\u001b[39m\u001b[38;5;124m\"\u001b[39m: embedding,\n\u001b[0;32m   (...)\u001b[0m\n\u001b[1;32m    140\u001b[0m         }\n\u001b[1;32m    141\u001b[0m     )\n\u001b[1;32m    143\u001b[0m \u001b[38;5;28;01mreturn\u001b[39;00m resp_objs\n",
      "File \u001b[0;32m~/Desktop/env/lib/python3.12/site-packages/deepface/models/facial_recognition/VGGFace.py:66\u001b[0m, in \u001b[0;36mVggFaceClient.forward\u001b[0;34m(self, img)\u001b[0m\n\u001b[1;32m     51\u001b[0m \u001b[38;5;250m\u001b[39m\u001b[38;5;124;03m\"\"\"\u001b[39;00m\n\u001b[1;32m     52\u001b[0m \u001b[38;5;124;03mGenerates embeddings using the VGG-Face model.\u001b[39;00m\n\u001b[1;32m     53\u001b[0m \u001b[38;5;124;03m    This method incorporates an additional normalization layer,\u001b[39;00m\n\u001b[0;32m   (...)\u001b[0m\n\u001b[1;32m     59\u001b[0m \u001b[38;5;124;03m    embeddings (list): multi-dimensional vector\u001b[39;00m\n\u001b[1;32m     60\u001b[0m \u001b[38;5;124;03m\"\"\"\u001b[39;00m\n\u001b[1;32m     61\u001b[0m \u001b[38;5;66;03m# model.predict causes memory issue when it is called in a for loop\u001b[39;00m\n\u001b[1;32m     62\u001b[0m \u001b[38;5;66;03m# embedding = model.predict(img, verbose=0)[0].tolist()\u001b[39;00m\n\u001b[1;32m     63\u001b[0m \n\u001b[1;32m     64\u001b[0m \u001b[38;5;66;03m# having normalization layer in descriptor troubles for some gpu users (e.g. issue 957, 966)\u001b[39;00m\n\u001b[1;32m     65\u001b[0m \u001b[38;5;66;03m# instead we are now calculating it with traditional way not with keras backend\u001b[39;00m\n\u001b[0;32m---> 66\u001b[0m embedding \u001b[38;5;241m=\u001b[39m \u001b[38;5;28;43mself\u001b[39;49m\u001b[38;5;241;43m.\u001b[39;49m\u001b[43mmodel\u001b[49m\u001b[43m(\u001b[49m\u001b[43mimg\u001b[49m\u001b[43m,\u001b[49m\u001b[43m \u001b[49m\u001b[43mtraining\u001b[49m\u001b[38;5;241;43m=\u001b[39;49m\u001b[38;5;28;43;01mFalse\u001b[39;49;00m\u001b[43m)\u001b[49m\u001b[38;5;241m.\u001b[39mnumpy()[\u001b[38;5;241m0\u001b[39m]\u001b[38;5;241m.\u001b[39mtolist()\n\u001b[1;32m     67\u001b[0m embedding \u001b[38;5;241m=\u001b[39m verification\u001b[38;5;241m.\u001b[39ml2_normalize(embedding)\n\u001b[1;32m     68\u001b[0m \u001b[38;5;28;01mreturn\u001b[39;00m embedding\u001b[38;5;241m.\u001b[39mtolist()\n",
      "File \u001b[0;32m~/Desktop/env/lib/python3.12/site-packages/tf_keras/src/utils/traceback_utils.py:70\u001b[0m, in \u001b[0;36mfilter_traceback.<locals>.error_handler\u001b[0;34m(*args, **kwargs)\u001b[0m\n\u001b[1;32m     67\u001b[0m     filtered_tb \u001b[38;5;241m=\u001b[39m _process_traceback_frames(e\u001b[38;5;241m.\u001b[39m__traceback__)\n\u001b[1;32m     68\u001b[0m     \u001b[38;5;66;03m# To get the full stack trace, call:\u001b[39;00m\n\u001b[1;32m     69\u001b[0m     \u001b[38;5;66;03m# `tf.debugging.disable_traceback_filtering()`\u001b[39;00m\n\u001b[0;32m---> 70\u001b[0m     \u001b[38;5;28;01mraise\u001b[39;00m e\u001b[38;5;241m.\u001b[39mwith_traceback(filtered_tb) \u001b[38;5;28;01mfrom\u001b[39;00m \u001b[38;5;28;01mNone\u001b[39;00m\n\u001b[1;32m     71\u001b[0m \u001b[38;5;28;01mfinally\u001b[39;00m:\n\u001b[1;32m     72\u001b[0m     \u001b[38;5;28;01mdel\u001b[39;00m filtered_tb\n",
      "File \u001b[0;32m~/Desktop/env/lib/python3.12/site-packages/tensorflow/python/framework/ops.py:6002\u001b[0m, in \u001b[0;36mraise_from_not_ok_status\u001b[0;34m(e, name)\u001b[0m\n\u001b[1;32m   6000\u001b[0m \u001b[38;5;28;01mdef\u001b[39;00m \u001b[38;5;21mraise_from_not_ok_status\u001b[39m(e, name) \u001b[38;5;241m-\u001b[39m\u001b[38;5;241m>\u001b[39m NoReturn:\n\u001b[1;32m   6001\u001b[0m   e\u001b[38;5;241m.\u001b[39mmessage \u001b[38;5;241m+\u001b[39m\u001b[38;5;241m=\u001b[39m (\u001b[38;5;124m\"\u001b[39m\u001b[38;5;124m name: \u001b[39m\u001b[38;5;124m\"\u001b[39m \u001b[38;5;241m+\u001b[39m \u001b[38;5;28mstr\u001b[39m(name \u001b[38;5;28;01mif\u001b[39;00m name \u001b[38;5;129;01mis\u001b[39;00m \u001b[38;5;129;01mnot\u001b[39;00m \u001b[38;5;28;01mNone\u001b[39;00m \u001b[38;5;28;01melse\u001b[39;00m \u001b[38;5;124m\"\u001b[39m\u001b[38;5;124m\"\u001b[39m))\n\u001b[0;32m-> 6002\u001b[0m   \u001b[38;5;28;01mraise\u001b[39;00m core\u001b[38;5;241m.\u001b[39m_status_to_exception(e) \u001b[38;5;28;01mfrom\u001b[39;00m \u001b[38;5;28;01mNone\u001b[39;00m\n",
      "\u001b[0;31mInvalidArgumentError\u001b[0m: Exception encountered when calling layer 'conv2d' (type Conv2D).\n\n{{function_node __wrapped__Conv2D_device_/job:localhost/replica:0/task:0/device:GPU:0}} No DNN in stream executor. [Op:Conv2D] name: \n\nCall arguments received by layer 'conv2d' (type Conv2D):\n  • inputs=tf.Tensor(shape=(1, 226, 226, 3), dtype=float32)"
     ]
    }
   ],
   "source": [
    "## Embeddings\n",
    "\n",
    "embedding_objs = DeepFace.represent(img_path=\"/home/misha/Desktop/data/test_images/face.jpeg\")"
   ]
  },
  {
   "cell_type": "markdown",
   "id": "749d66e7",
   "metadata": {},
   "source": [
    "##"
   ]
  }
 ],
 "metadata": {
  "kernelspec": {
   "display_name": "Python 3 (ipykernel)",
   "language": "python",
   "name": "python3"
  },
  "language_info": {
   "codemirror_mode": {
    "name": "ipython",
    "version": 3
   },
   "file_extension": ".py",
   "mimetype": "text/x-python",
   "name": "python",
   "nbconvert_exporter": "python",
   "pygments_lexer": "ipython3",
   "version": "3.12.3"
  }
 },
 "nbformat": 4,
 "nbformat_minor": 5
}
