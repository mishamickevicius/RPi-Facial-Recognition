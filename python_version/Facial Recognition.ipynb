{
 "cells": [
  {
   "cell_type": "code",
   "execution_count": 8,
   "id": "bf47b4cc-ac8f-4698-a258-a164c4596915",
   "metadata": {},
   "outputs": [
    {
     "name": "stderr",
     "output_type": "stream",
     "text": [
      "2025-05-15 21:55:45.702765: I tensorflow/core/util/port.cc:153] oneDNN custom operations are on. You may see slightly different numerical results due to floating-point round-off errors from different computation orders. To turn them off, set the environment variable `TF_ENABLE_ONEDNN_OPTS=0`.\n",
      "2025-05-15 21:55:45.848373: E external/local_xla/xla/stream_executor/cuda/cuda_fft.cc:477] Unable to register cuFFT factory: Attempting to register factory for plugin cuFFT when one has already been registered\n",
      "WARNING: All log messages before absl::InitializeLog() is called are written to STDERR\n",
      "E0000 00:00:1747364145.901754    4364 cuda_dnn.cc:8310] Unable to register cuDNN factory: Attempting to register factory for plugin cuDNN when one has already been registered\n",
      "E0000 00:00:1747364145.916000    4364 cuda_blas.cc:1418] Unable to register cuBLAS factory: Attempting to register factory for plugin cuBLAS when one has already been registered\n",
      "2025-05-15 21:55:46.055845: I tensorflow/core/platform/cpu_feature_guard.cc:210] This TensorFlow binary is optimized to use available CPU instructions in performance-critical operations.\n",
      "To enable the following instructions: AVX2 AVX512F AVX512_VNNI FMA, in other operations, rebuild TensorFlow with the appropriate compiler flags.\n"
     ]
    }
   ],
   "source": [
    "import numpy as np\n",
    "import matplotlib.pyplot as plt\n",
    "import os\n",
    "import shutil\n",
    "import tensorflow as tf\n",
    "\n",
    "from functools import partial"
   ]
  },
  {
   "cell_type": "markdown",
   "id": "3168d596-c5dc-435c-9aa4-aa9ac3eb6a57",
   "metadata": {},
   "source": [
    "# Plan\n",
    "- Build Facial Detection model first\n",
    "- Then build Facial Recognition model"
   ]
  },
  {
   "cell_type": "markdown",
   "id": "9b59179d-bec1-4fb4-9857-ff346e79795b",
   "metadata": {
    "jp-MarkdownHeadingCollapsed": true
   },
   "source": [
    "## Data"
   ]
  },
  {
   "cell_type": "markdown",
   "id": "a68295c2-c91d-4709-9fdd-d50b83bda00c",
   "metadata": {},
   "source": [
    "Plan for data: \n",
    "1. Get a dataset of just faces\n",
    "2. For Facial Detection model, combine this dataset with the ImageNet dataset\n",
    "3. For Facial Recognition model, combine face dataset with pictures of approved faces(ie. mine) "
   ]
  },
  {
   "cell_type": "code",
   "execution_count": 2,
   "id": "6514f38c-1705-477d-a112-b892f8402f2e",
   "metadata": {},
   "outputs": [],
   "source": [
    "DATAPATH = '/home/misha/Desktop/data/face_recognition_Data'"
   ]
  },
  {
   "cell_type": "code",
   "execution_count": 3,
   "id": "3fd75567-f5c3-41c8-a2c3-34dbfae00103",
   "metadata": {},
   "outputs": [],
   "source": [
    "notFace_path = DATAPATH + '/Not Face'"
   ]
  },
  {
   "cell_type": "code",
   "execution_count": 4,
   "id": "da098637-8358-4f10-a973-282b59be003b",
   "metadata": {},
   "outputs": [],
   "source": [
    "### Data clean up functionality\n",
    "for obj_folder in os.listdir(notFace_path):\n",
    "    if not os.path.isdir(notFace_path + f'/{obj_folder}'):\n",
    "        continue\n",
    "    else:\n",
    "        print(f\"Found folder {obj_folder}\")\n",
    "        for image_path in os.listdir(notFace_path + f'/{obj_folder}'):\n",
    "            try:\n",
    "                shutil.move(notFace_path + f'/{obj_folder}/{image_path}', notFace_path)\n",
    "            except Exception as err:\n",
    "                print(f\"Error with file: {image_path}\")\n",
    "                print(err)"
   ]
  },
  {
   "cell_type": "code",
   "execution_count": 20,
   "id": "6976b3a4-aaed-4956-baac-bcf7126d885b",
   "metadata": {},
   "outputs": [
    {
     "name": "stdout",
     "output_type": "stream",
     "text": [
      "Found 3937 files belonging to 2 classes.\n"
     ]
    }
   ],
   "source": [
    "df = tf.keras.utils.image_dataset_from_directory(\n",
    "    DATAPATH, \n",
    "    labels='inferred',\n",
    "    color_mode='rgb',\n",
    "    batch_size=24, \n",
    "    label_mode='binary',   ## Vector Representation (Use categorical_crossentropy loss)\n",
    "    image_size=(640, 480),\n",
    "    crop_to_aspect_ratio=True,\n",
    "    seed=1, \n",
    "    shuffle=True\n",
    ")"
   ]
  },
  {
   "cell_type": "code",
   "execution_count": 21,
   "id": "55d8f40e-ad71-4f16-b6f6-98e493b3c569",
   "metadata": {},
   "outputs": [
    {
     "data": {
      "text/plain": [
       "<_PrefetchDataset element_spec=(TensorSpec(shape=(None, 640, 480, 3), dtype=tf.float32, name=None), TensorSpec(shape=(None, 1), dtype=tf.float32, name=None))>"
      ]
     },
     "execution_count": 21,
     "metadata": {},
     "output_type": "execute_result"
    }
   ],
   "source": [
    "df"
   ]
  },
  {
   "cell_type": "code",
   "execution_count": 5,
   "id": "cb3c14df-5e72-4c37-8d6b-c4b84531d349",
   "metadata": {},
   "outputs": [],
   "source": [
    "# buffer_size = DATASET_SIZE\n",
    "# seed = 101\n",
    "# df = df.shuffle(buffer_size, seed=seed)"
   ]
  },
  {
   "cell_type": "code",
   "execution_count": 4,
   "id": "fdf04a10-d2e0-4521-b7cf-03cb1a34382d",
   "metadata": {},
   "outputs": [],
   "source": [
    "# train_size = int(TRAIN_RATIO * DATASET_SIZE)\n",
    "# val_size = int(VAL_RATIO * DATASET_SIZE)\n",
    "# test_size = DATASET_SIZE - train_size - val_size "
   ]
  },
  {
   "cell_type": "code",
   "execution_count": 3,
   "id": "6f79c2df-1a5f-4e70-a1b6-3dc3203330a8",
   "metadata": {},
   "outputs": [],
   "source": [
    "# train_df = df.take(train_size)\n",
    "# val_df = df.skip(train_size).take(val_size)\n",
    "# test_df = df.skip(train_size + val_size) # Takes the rest"
   ]
  },
  {
   "cell_type": "code",
   "execution_count": 2,
   "id": "5c918493-e98e-4656-bea2-b69521b53adc",
   "metadata": {},
   "outputs": [],
   "source": [
    "# len(val_df)"
   ]
  },
  {
   "cell_type": "markdown",
   "id": "957bcba4-5771-45c9-a928-9ce4344d79fb",
   "metadata": {},
   "source": [
    "## Face Detection Model"
   ]
  },
  {
   "cell_type": "code",
   "execution_count": 18,
   "id": "15b667b1-4c3e-4d2b-8364-60431347c4b3",
   "metadata": {},
   "outputs": [],
   "source": [
    "import cv2"
   ]
  },
  {
   "cell_type": "code",
   "execution_count": 19,
   "id": "07ba8294-b746-4f70-9599-d86e78083b5c",
   "metadata": {},
   "outputs": [],
   "source": [
    "image_path = '/home/misha/Desktop/data/test_images/face.jpeg'"
   ]
  },
  {
   "cell_type": "code",
   "execution_count": 20,
   "id": "978cbf39-0894-43a6-897b-d52a578b8e49",
   "metadata": {},
   "outputs": [],
   "source": [
    "face_cascade = cv2.CascadeClassifier(cv2.data.haarcascades + 'haarcascade_frontalface_default.xml')"
   ]
  },
  {
   "cell_type": "code",
   "execution_count": 21,
   "id": "dca90525-0096-46d8-b806-080addb7dbe4",
   "metadata": {},
   "outputs": [],
   "source": [
    "img = cv2.imread(image_path)"
   ]
  },
  {
   "cell_type": "code",
   "execution_count": 22,
   "id": "aaaa10b2-3819-481f-94b5-eb92f167612f",
   "metadata": {},
   "outputs": [],
   "source": [
    "gray = cv2.cvtColor(img, cv2.COLOR_RGB2GRAY)"
   ]
  },
  {
   "cell_type": "code",
   "execution_count": 23,
   "id": "f1bad843-8e8d-4694-a8db-2618cefd9898",
   "metadata": {},
   "outputs": [],
   "source": [
    "faces = face_cascade.detectMultiScale(gray, 1.1, 4)"
   ]
  },
  {
   "cell_type": "code",
   "execution_count": 25,
   "id": "27d7619f-0de8-4645-816b-19f5963ff945",
   "metadata": {},
   "outputs": [],
   "source": [
    "## Drawing rectangles around the faces\n",
    "for (x,y,w,h) in faces:\n",
    "    cv2.rectangle(img, (x,y), (x+w, y+h), (255, 0, 0), 2)"
   ]
  },
  {
   "cell_type": "code",
   "execution_count": 26,
   "id": "152fb11b-415c-496f-ab9e-2b3645b51705",
   "metadata": {},
   "outputs": [
    {
     "data": {
      "text/plain": [
       "100"
      ]
     },
     "execution_count": 26,
     "metadata": {},
     "output_type": "execute_result"
    }
   ],
   "source": [
    "cv2.imshow('img', img)\n",
    "cv2.waitKey()"
   ]
  },
  {
   "cell_type": "code",
   "execution_count": null,
   "id": "e1aa171f-2b1e-47ab-8c34-c38b031ecadf",
   "metadata": {},
   "outputs": [],
   "source": []
  }
 ],
 "metadata": {
  "kernelspec": {
   "display_name": "Python 3 (ipykernel)",
   "language": "python",
   "name": "python3"
  },
  "language_info": {
   "codemirror_mode": {
    "name": "ipython",
    "version": 3
   },
   "file_extension": ".py",
   "mimetype": "text/x-python",
   "name": "python",
   "nbconvert_exporter": "python",
   "pygments_lexer": "ipython3",
   "version": "3.12.3"
  }
 },
 "nbformat": 4,
 "nbformat_minor": 5
}
